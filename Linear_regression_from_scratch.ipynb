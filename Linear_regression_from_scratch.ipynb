{
 "cells": [
  {
   "cell_type": "code",
   "execution_count": 392,
   "id": "6645c6f7",
   "metadata": {},
   "outputs": [
    {
     "data": {
      "text/html": [
       "<div>\n",
       "<style scoped>\n",
       "    .dataframe tbody tr th:only-of-type {\n",
       "        vertical-align: middle;\n",
       "    }\n",
       "\n",
       "    .dataframe tbody tr th {\n",
       "        vertical-align: top;\n",
       "    }\n",
       "\n",
       "    .dataframe thead th {\n",
       "        text-align: right;\n",
       "    }\n",
       "</style>\n",
       "<table border=\"1\" class=\"dataframe\">\n",
       "  <thead>\n",
       "    <tr style=\"text-align: right;\">\n",
       "      <th></th>\n",
       "      <th>X</th>\n",
       "      <th>Y</th>\n",
       "    </tr>\n",
       "  </thead>\n",
       "  <tbody>\n",
       "    <tr>\n",
       "      <th>1</th>\n",
       "      <td>108</td>\n",
       "      <td>392,5</td>\n",
       "    </tr>\n",
       "    <tr>\n",
       "      <th>2</th>\n",
       "      <td>19</td>\n",
       "      <td>46,2</td>\n",
       "    </tr>\n",
       "    <tr>\n",
       "      <th>3</th>\n",
       "      <td>13</td>\n",
       "      <td>15,7</td>\n",
       "    </tr>\n",
       "    <tr>\n",
       "      <th>4</th>\n",
       "      <td>124</td>\n",
       "      <td>422,2</td>\n",
       "    </tr>\n",
       "  </tbody>\n",
       "</table>\n",
       "</div>"
      ],
      "text/plain": [
       "0    X      Y\n",
       "1  108  392,5\n",
       "2   19   46,2\n",
       "3   13   15,7\n",
       "4  124  422,2"
      ]
     },
     "execution_count": 392,
     "metadata": {},
     "output_type": "execute_result"
    }
   ],
   "source": [
    "import pandas as pd\n",
    "df = pd.read_csv('insurance.csv')\n",
    "df = df.drop(list(df.columns[2:7]),axis=1)\n",
    "df.columns = df.iloc[0]\n",
    "df = df.drop([0],axis=0)\n",
    "df.head(4)"
   ]
  },
  {
   "cell_type": "markdown",
   "id": "116f64e9",
   "metadata": {},
   "source": [
    "**In the following data**\n",
    "\n",
    "X = number of claims\n",
    "\n",
    "Y = total payment for all the claims in thousands of Swedish Kronor\n",
    "\n",
    "for geographical zones in Sweden"
   ]
  },
  {
   "cell_type": "code",
   "execution_count": 393,
   "id": "1a5f8b25",
   "metadata": {},
   "outputs": [
    {
     "data": {
      "text/html": [
       "<div>\n",
       "<style scoped>\n",
       "    .dataframe tbody tr th:only-of-type {\n",
       "        vertical-align: middle;\n",
       "    }\n",
       "\n",
       "    .dataframe tbody tr th {\n",
       "        vertical-align: top;\n",
       "    }\n",
       "\n",
       "    .dataframe thead th {\n",
       "        text-align: right;\n",
       "    }\n",
       "</style>\n",
       "<table border=\"1\" class=\"dataframe\">\n",
       "  <thead>\n",
       "    <tr style=\"text-align: right;\">\n",
       "      <th></th>\n",
       "      <th>X</th>\n",
       "      <th>Y</th>\n",
       "    </tr>\n",
       "  </thead>\n",
       "  <tbody>\n",
       "    <tr>\n",
       "      <th>1</th>\n",
       "      <td>108</td>\n",
       "      <td>392.5</td>\n",
       "    </tr>\n",
       "    <tr>\n",
       "      <th>2</th>\n",
       "      <td>19</td>\n",
       "      <td>46.2</td>\n",
       "    </tr>\n",
       "    <tr>\n",
       "      <th>3</th>\n",
       "      <td>13</td>\n",
       "      <td>15.7</td>\n",
       "    </tr>\n",
       "  </tbody>\n",
       "</table>\n",
       "</div>"
      ],
      "text/plain": [
       "0    X      Y\n",
       "1  108  392.5\n",
       "2   19   46.2\n",
       "3   13   15.7"
      ]
     },
     "execution_count": 393,
     "metadata": {},
     "output_type": "execute_result"
    }
   ],
   "source": [
    "df['Y'] = df['Y'].str.replace(',','.')\n",
    "df.head(3)"
   ]
  },
  {
   "cell_type": "code",
   "execution_count": 394,
   "id": "22b73230",
   "metadata": {},
   "outputs": [
    {
     "data": {
      "image/png": "[encoded data removed]",
      "text/plain": [
       "<Figure size 360x360 with 1 Axes>"
      ]
     },
     "metadata": {},
     "output_type": "display_data"
    }
   ],
   "source": [
    "# The data type of X and Y is 'object' convert into 'float'\n",
    "df['X'] = df['X'].astype(float)\n",
    "df['Y'] = df['Y'].astype(float)\n",
    "\n",
    "import seaborn as sns\n",
    "sns.set_style(\"dark\")\n",
    "sns.relplot(x ='X',y ='Y',data=df.head(30),kind='scatter',s=70)\n",
    "plt.show()\n",
    "# from the scatter plot we can see that x and y have linear relationship"
   ]
  },
  {
   "cell_type": "markdown",
   "id": "7cca1fbe",
   "metadata": {},
   "source": [
    "***The line for a simple linear regression model can be written as:***\n",
    "\n",
    "**Y = B0 + B1*X**\n",
    "\n",
    "where B0 and B1 are the coefficients we must estimate from the training data.\n",
    "\n",
    "Once the coefficients are known, we can use this equation to estimate output values for y given new input examples of x."
   ]
  },
  {
   "cell_type": "code",
   "execution_count": 395,
   "id": "22772f5c",
   "metadata": {},
   "outputs": [],
   "source": [
    "# Mean and variance\n",
    "def mean(values):\n",
    "    return sum(values)/float(len(values))\n",
    "\n",
    "def variance(values, mean):\n",
    "    return sum([(x-mean)**2 for x in values])/float(len(values))\n"
   ]
  },
  {
   "cell_type": "code",
   "execution_count": 396,
   "id": "00be763e",
   "metadata": {},
   "outputs": [],
   "source": [
    "# Covariance\n",
    "# The covariance of two groups of numbers describes how those numbers change together.\n",
    "\n",
    "def covariance(x,mean_x,y,mean_y):\n",
    "    covar = 0.0\n",
    "    for i in range(len(x)):\n",
    "        covar += (x[i] - mean_x) * (y[i] - mean_y)\n",
    "        return covar/float(len(x))  "
   ]
  },
  {
   "cell_type": "markdown",
   "id": "ecf03cb0",
   "metadata": {},
   "source": [
    "**We now have all the pieces in place to calculate the coefficients for our model.**"
   ]
  },
  {
   "cell_type": "markdown",
   "id": "5c8fadee",
   "metadata": {},
   "source": [
    "# Estimate Coefficients"
   ]
  },
  {
   "cell_type": "code",
   "execution_count": 397,
   "id": "ee5360ff",
   "metadata": {},
   "outputs": [],
   "source": [
    "# coefficients B0 and B1\n",
    "def coefficients(dataset):\n",
    "    x = dataset.iloc[:, 0]. tolist()\n",
    "    y = dataset.iloc[:, 1]. tolist()\n",
    "    x_mean, y_mean = mean(x), mean(y)\n",
    "    B1 = covariance(x,mean_x,y,mean_y)/variance(x,x_mean)\n",
    "    B0 = y_mean - B1*x_mean\n",
    "    return [B0,B1]"
   ]
  },
  {
   "cell_type": "code",
   "execution_count": 398,
   "id": "0e3dcb76",
   "metadata": {},
   "outputs": [
    {
     "data": {
      "text/plain": [
       "[70.46638054245358, 1.2102689021659214]"
      ]
     },
     "execution_count": 398,
     "metadata": {},
     "output_type": "execute_result"
    }
   ],
   "source": [
    "coefficients(df)"
   ]
  },
  {
   "cell_type": "markdown",
   "id": "ffd18e87",
   "metadata": {},
   "source": [
    "# Splitting the dataset to Train and Test"
   ]
  },
  {
   "cell_type": "code",
   "execution_count": 399,
   "id": "8c77f7e5",
   "metadata": {},
   "outputs": [],
   "source": [
    "# shuffle your dataset\n",
    "df_shuffle = df.sample(frac=1)\n",
    "\n",
    "#Define a size for your train set\n",
    "train_size = int(0.7*len(df))\n",
    "\n",
    "# Split the dataset 70:30 ratio\n",
    "Train_df = df_shuffle[:train_size]\n",
    "Test_df = df_shuffle[train_size:]"
   ]
  },
  {
   "cell_type": "code",
   "execution_count": 407,
   "id": "7c89821b",
   "metadata": {},
   "outputs": [
    {
     "data": {
      "text/plain": [
       "[89.2288368339228, 0.008825401808684125]"
      ]
     },
     "execution_count": 407,
     "metadata": {},
     "output_type": "execute_result"
    }
   ],
   "source": [
    "coefficients(Train_df)"
   ]
  },
  {
   "cell_type": "markdown",
   "id": "9f30da23",
   "metadata": {},
   "source": [
    "# Simple Linear regression algorithm"
   ]
  },
  {
   "cell_type": "code",
   "execution_count": 400,
   "id": "9112320a",
   "metadata": {},
   "outputs": [],
   "source": [
    "def SLR(train,test):\n",
    "    a = test.iloc[:, 0]. tolist() # values of x in test df in list form\n",
    "    predict = list() # values of y will also be predictated in list form\n",
    "    b0, b1 = coefficients(train)\n",
    "    for row in a:\n",
    "        y_predict = b0 + b1 * row\n",
    "        predict.append(y_predict)\n",
    "    return predict"
   ]
  },
  {
   "cell_type": "code",
   "execution_count": 401,
   "id": "d032c134",
   "metadata": {},
   "outputs": [
    {
     "data": {
      "text/html": [
       "<div>\n",
       "<style scoped>\n",
       "    .dataframe tbody tr th:only-of-type {\n",
       "        vertical-align: middle;\n",
       "    }\n",
       "\n",
       "    .dataframe tbody tr th {\n",
       "        vertical-align: top;\n",
       "    }\n",
       "\n",
       "    .dataframe thead th {\n",
       "        text-align: right;\n",
       "    }\n",
       "</style>\n",
       "<table border=\"1\" class=\"dataframe\">\n",
       "  <thead>\n",
       "    <tr style=\"text-align: right;\">\n",
       "      <th></th>\n",
       "      <th>0</th>\n",
       "    </tr>\n",
       "  </thead>\n",
       "  <tbody>\n",
       "    <tr>\n",
       "      <th>0</th>\n",
       "      <td>90.181980</td>\n",
       "    </tr>\n",
       "    <tr>\n",
       "      <th>1</th>\n",
       "      <td>89.255313</td>\n",
       "    </tr>\n",
       "    <tr>\n",
       "      <th>2</th>\n",
       "      <td>89.590678</td>\n",
       "    </tr>\n",
       "    <tr>\n",
       "      <th>3</th>\n",
       "      <td>89.467123</td>\n",
       "    </tr>\n",
       "    <tr>\n",
       "      <th>4</th>\n",
       "      <td>89.290615</td>\n",
       "    </tr>\n",
       "    <tr>\n",
       "      <th>5</th>\n",
       "      <td>89.696583</td>\n",
       "    </tr>\n",
       "    <tr>\n",
       "      <th>6</th>\n",
       "      <td>89.264138</td>\n",
       "    </tr>\n",
       "    <tr>\n",
       "      <th>7</th>\n",
       "      <td>89.652456</td>\n",
       "    </tr>\n",
       "    <tr>\n",
       "      <th>8</th>\n",
       "      <td>89.405345</td>\n",
       "    </tr>\n",
       "    <tr>\n",
       "      <th>9</th>\n",
       "      <td>89.502424</td>\n",
       "    </tr>\n",
       "    <tr>\n",
       "      <th>10</th>\n",
       "      <td>89.352392</td>\n",
       "    </tr>\n",
       "    <tr>\n",
       "      <th>11</th>\n",
       "      <td>89.352392</td>\n",
       "    </tr>\n",
       "    <tr>\n",
       "      <th>12</th>\n",
       "      <td>89.758361</td>\n",
       "    </tr>\n",
       "    <tr>\n",
       "      <th>13</th>\n",
       "      <td>89.246488</td>\n",
       "    </tr>\n",
       "    <tr>\n",
       "      <th>14</th>\n",
       "      <td>89.325916</td>\n",
       "    </tr>\n",
       "    <tr>\n",
       "      <th>15</th>\n",
       "      <td>89.449472</td>\n",
       "    </tr>\n",
       "    <tr>\n",
       "      <th>16</th>\n",
       "      <td>89.308265</td>\n",
       "    </tr>\n",
       "    <tr>\n",
       "      <th>17</th>\n",
       "      <td>89.378869</td>\n",
       "    </tr>\n",
       "    <tr>\n",
       "      <th>18</th>\n",
       "      <td>89.272964</td>\n",
       "    </tr>\n",
       "  </tbody>\n",
       "</table>\n",
       "</div>"
      ],
      "text/plain": [
       "            0\n",
       "0   90.181980\n",
       "1   89.255313\n",
       "2   89.590678\n",
       "3   89.467123\n",
       "4   89.290615\n",
       "5   89.696583\n",
       "6   89.264138\n",
       "7   89.652456\n",
       "8   89.405345\n",
       "9   89.502424\n",
       "10  89.352392\n",
       "11  89.352392\n",
       "12  89.758361\n",
       "13  89.246488\n",
       "14  89.325916\n",
       "15  89.449472\n",
       "16  89.308265\n",
       "17  89.378869\n",
       "18  89.272964"
      ]
     },
     "execution_count": 401,
     "metadata": {},
     "output_type": "execute_result"
    }
   ],
   "source": [
    "pd.DataFrame(SLR(Train_df,Test_df))\n",
    "# predicted Y values from x values in test dataset"
   ]
  },
  {
   "cell_type": "markdown",
   "id": "2c6a8286",
   "metadata": {},
   "source": [
    "# Ploting predictions to compare it to the original dataset.\n"
   ]
  },
  {
   "cell_type": "code",
   "execution_count": 402,
   "id": "06233534",
   "metadata": {},
   "outputs": [
    {
     "data": {
      "text/plain": [
       "<matplotlib.legend.Legend at 0x7fe759651850>"
      ]
     },
     "execution_count": 402,
     "metadata": {},
     "output_type": "execute_result"
    },
    {
     "data": {
      "image/png": "[encoded data removed]",
      "text/plain": [
       "<Figure size 504x360 with 1 Axes>"
      ]
     },
     "metadata": {},
     "output_type": "display_data"
    }
   ],
   "source": [
    "import matplotlib.pyplot as plt\n",
    "\n",
    "import warnings\n",
    "import matplotlib.cbook\n",
    "warnings.filterwarnings(\"ignore\",category=matplotlib.cbook.mplDeprecation)\n",
    "\n",
    "sns.set_style(\"white\")\n",
    "fig1 = plt.figure(figsize=(7,5))\n",
    "ax1 = fig1.add_subplot()\n",
    "ax2 = fig1.add_subplot()\n",
    "\n",
    "x=df['X']\n",
    "y=df['Y']\n",
    "\n",
    "a = Test_df['X']\n",
    "c = Test_df['Y']\n",
    "b = SLR(Train_df,Test_df)\n",
    "\n",
    "plt.xlim([0, 70])\n",
    "plt.ylim([0, 300])\n",
    "\n",
    "\n",
    "plt.scatter(x,y,s=70,color='#B4BFE5',label=\"Original df\")\n",
    "ax1.scatter(a,b,color='#303C6C',s=70,label=\"predicted Y values from Test_df\")\n",
    "ax2.scatter(a,c,color='#F4976C',s=70,label=\"original Y values in Test_df\")\n",
    "\n",
    "plt.legend()"
   ]
  },
  {
   "cell_type": "markdown",
   "id": "4aeacd1a",
   "metadata": {},
   "source": [
    "# Calculating the Loss function : RMSE"
   ]
  },
  {
   "cell_type": "code",
   "execution_count": 403,
   "id": "2923ac5b",
   "metadata": {},
   "outputs": [],
   "source": [
    "# from RMSE formula\n",
    "from math import sqrt\n",
    "def RMSE(actual,prediction):\n",
    "    sum_error = 0.0\n",
    "    for i in range(len(actual)):\n",
    "        prediction_error = actual[i] - prediction[i]\n",
    "        sum_error += (prediction_error ** 2)\n",
    "    mean_error = sum_error/float(len(actual))\n",
    "    return sqrt(mean_error)"
   ]
  },
  {
   "cell_type": "code",
   "execution_count": 404,
   "id": "2a134bf0",
   "metadata": {},
   "outputs": [
    {
     "data": {
      "text/plain": [
       "104.69929038951476"
      ]
     },
     "execution_count": 404,
     "metadata": {},
     "output_type": "execute_result"
    }
   ],
   "source": [
    "RMSE(list(Test_df['Y']),SLR(Train_df,Test_df))"
   ]
  },
  {
   "cell_type": "code",
   "execution_count": null,
   "id": "3b79ef8e",
   "metadata": {},
   "outputs": [],
   "source": [
    "#Looks like we have overfit the model"
   ]
  }
 ],
 "metadata": {
  "kernelspec": {
   "display_name": "Python 3",
   "language": "python",
   "name": "python3"
  },
  "language_info": {
   "codemirror_mode": {
    "name": "ipython",
    "version": 3
   },
   "file_extension": ".py",
   "mimetype": "text/x-python",
   "name": "python",
   "nbconvert_exporter": "python",
   "pygments_lexer": "ipython3",
   "version": "3.8.8"
  }
 },
 "nbformat": 4,
 "nbformat_minor": 5
}
