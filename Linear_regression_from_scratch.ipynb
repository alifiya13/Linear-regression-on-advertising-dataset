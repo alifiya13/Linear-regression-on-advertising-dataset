{
 "cells": [
  {
   "cell_type": "code",
   "execution_count": 88,
   "id": "6645c6f7",
   "metadata": {},
   "outputs": [
    {
     "data": {
      "text/html": [
       "<div>\n",
       "<style scoped>\n",
       "    .dataframe tbody tr th:only-of-type {\n",
       "        vertical-align: middle;\n",
       "    }\n",
       "\n",
       "    .dataframe tbody tr th {\n",
       "        vertical-align: top;\n",
       "    }\n",
       "\n",
       "    .dataframe thead th {\n",
       "        text-align: right;\n",
       "    }\n",
       "</style>\n",
       "<table border=\"1\" class=\"dataframe\">\n",
       "  <thead>\n",
       "    <tr style=\"text-align: right;\">\n",
       "      <th></th>\n",
       "      <th>X</th>\n",
       "      <th>Y</th>\n",
       "    </tr>\n",
       "  </thead>\n",
       "  <tbody>\n",
       "    <tr>\n",
       "      <th>0</th>\n",
       "      <td>32.502345</td>\n",
       "      <td>31.707006</td>\n",
       "    </tr>\n",
       "    <tr>\n",
       "      <th>1</th>\n",
       "      <td>53.426804</td>\n",
       "      <td>68.777596</td>\n",
       "    </tr>\n",
       "    <tr>\n",
       "      <th>2</th>\n",
       "      <td>61.530358</td>\n",
       "      <td>62.562382</td>\n",
       "    </tr>\n",
       "    <tr>\n",
       "      <th>3</th>\n",
       "      <td>47.475640</td>\n",
       "      <td>71.546632</td>\n",
       "    </tr>\n",
       "  </tbody>\n",
       "</table>\n",
       "</div>"
      ],
      "text/plain": [
       "           X          Y\n",
       "0  32.502345  31.707006\n",
       "1  53.426804  68.777596\n",
       "2  61.530358  62.562382\n",
       "3  47.475640  71.546632"
      ]
     },
     "execution_count": 88,
     "metadata": {},
     "output_type": "execute_result"
    }
   ],
   "source": [
    "import pandas as pd\n",
    "df = pd.read_csv('LR_data.csv',header=0,usecols=[\"X\",\"Y\"])\n",
    "df.head(4)"
   ]
  },
  {
   "cell_type": "code",
   "execution_count": 89,
   "id": "22b73230",
   "metadata": {},
   "outputs": [
    {
     "data": {
      "image/png": "[encoded data removed]",
      "text/plain": [
       "<Figure size 432x288 with 1 Axes>"
      ]
     },
     "metadata": {},
     "output_type": "display_data"
    }
   ],
   "source": [
    "import matplotlib.pyplot as plt\n",
    "import seaborn as sns\n",
    "sns.set_style(\"dark\")\n",
    "sns.regplot(x ='X',y ='Y',data=df)\n",
    "plt.show()\n",
    "# from the scatter plot we can see that x and y have linear relationship"
   ]
  },
  {
   "cell_type": "markdown",
   "id": "7cca1fbe",
   "metadata": {},
   "source": [
    "***The line for a simple linear regression model can be written as:***\n",
    "\n",
    "**Y = B0 + B1*X**\n",
    "\n",
    "where B0 and B1 are the coefficients we must estimate from the training data.\n",
    "\n",
    "Once the coefficients are known, we can use this equation to estimate output values for y given new input examples of x."
   ]
  },
  {
   "cell_type": "code",
   "execution_count": 90,
   "id": "22772f5c",
   "metadata": {},
   "outputs": [],
   "source": [
    "# Mean and variance\n",
    "def mean(values):\n",
    "    return sum(values)/float(len(values))\n",
    "\n",
    "def variance(values, mean):\n",
    "    return sum([(x-mean)**2 for x in values])/float(len(values))\n"
   ]
  },
  {
   "cell_type": "code",
   "execution_count": 91,
   "id": "00be763e",
   "metadata": {},
   "outputs": [],
   "source": [
    "# Covariance\n",
    "# The covariance of two groups of numbers describes how those numbers change together.\n",
    "\n",
    "def covariance(x,mean_x,y,mean_y):\n",
    "    covar = 0.0\n",
    "    for i in range(len(x)):\n",
    "        covar += (x[i] - mean_x) * (y[i] - mean_y)\n",
    "        return covar/float(len(x))  "
   ]
  },
  {
   "cell_type": "markdown",
   "id": "ecf03cb0",
   "metadata": {},
   "source": [
    "**We now have all the pieces in place to calculate the coefficients for our model.**"
   ]
  },
  {
   "cell_type": "markdown",
   "id": "5c8fadee",
   "metadata": {},
   "source": [
    "# Estimate Coefficients"
   ]
  },
  {
   "cell_type": "code",
   "execution_count": 92,
   "id": "ee5360ff",
   "metadata": {},
   "outputs": [],
   "source": [
    "# coefficients B0 and B1\n",
    "def coefficients(dataset):\n",
    "    x = dataset.iloc[:, 0]. tolist()\n",
    "    y = dataset.iloc[:, 1]. tolist()\n",
    "    x_mean, y_mean = mean(x), mean(y)\n",
    "    B1 = covariance(x,x_mean,y,x_mean)/variance(x,x_mean)\n",
    "    B0 = y_mean - B1*x_mean\n",
    "    return [B0,B1]"
   ]
  },
  {
   "cell_type": "code",
   "execution_count": 93,
   "id": "0e3dcb76",
   "metadata": {},
   "outputs": [
    {
     "data": {
      "text/plain": [
       "[71.2571276248312, 0.030187356939280298]"
      ]
     },
     "execution_count": 93,
     "metadata": {},
     "output_type": "execute_result"
    }
   ],
   "source": [
    "coefficients(df)"
   ]
  },
  {
   "cell_type": "markdown",
   "id": "ffd18e87",
   "metadata": {},
   "source": [
    "# Splitting the dataset to Train and Test"
   ]
  },
  {
   "cell_type": "code",
   "execution_count": 94,
   "id": "8c77f7e5",
   "metadata": {},
   "outputs": [],
   "source": [
    "# shuffle your dataset\n",
    "df_shuffle = df.sample(frac=1)\n",
    "\n",
    "#Define a size for your train set\n",
    "train_size = int(0.7*len(df))\n",
    "\n",
    "# Split the dataset 70:30 ratio\n",
    "Train_df = df_shuffle[:train_size]\n",
    "Test_df = df_shuffle[train_size:]"
   ]
  },
  {
   "cell_type": "code",
   "execution_count": 95,
   "id": "7c89821b",
   "metadata": {},
   "outputs": [
    {
     "data": {
      "text/plain": [
       "[69.50573090547337, 0.06797907675981615]"
      ]
     },
     "execution_count": 95,
     "metadata": {},
     "output_type": "execute_result"
    }
   ],
   "source": [
    "coefficients(Train_df)"
   ]
  },
  {
   "cell_type": "markdown",
   "id": "9f30da23",
   "metadata": {},
   "source": [
    "# Simple Linear regression algorithm"
   ]
  },
  {
   "cell_type": "code",
   "execution_count": 96,
   "id": "9112320a",
   "metadata": {},
   "outputs": [],
   "source": [
    "def SLR(train,test):\n",
    "    a = test.iloc[:, 0]. tolist() # values of x in test df in list form\n",
    "    predict = list() # values of y will also be predictated in list form\n",
    "    b0, b1 = coefficients(train)\n",
    "    for row in a:\n",
    "        y_predict = b0 + b1 * row\n",
    "        predict.append(y_predict)\n",
    "    return predict"
   ]
  },
  {
   "cell_type": "code",
   "execution_count": 97,
   "id": "d032c134",
   "metadata": {},
   "outputs": [
    {
     "data": {
      "text/html": [
       "<div>\n",
       "<style scoped>\n",
       "    .dataframe tbody tr th:only-of-type {\n",
       "        vertical-align: middle;\n",
       "    }\n",
       "\n",
       "    .dataframe tbody tr th {\n",
       "        vertical-align: top;\n",
       "    }\n",
       "\n",
       "    .dataframe thead th {\n",
       "        text-align: right;\n",
       "    }\n",
       "</style>\n",
       "<table border=\"1\" class=\"dataframe\">\n",
       "  <thead>\n",
       "    <tr style=\"text-align: right;\">\n",
       "      <th></th>\n",
       "      <th>0</th>\n",
       "    </tr>\n",
       "  </thead>\n",
       "  <tbody>\n",
       "    <tr>\n",
       "      <th>0</th>\n",
       "      <td>71.715210</td>\n",
       "    </tr>\n",
       "    <tr>\n",
       "      <th>1</th>\n",
       "      <td>73.688508</td>\n",
       "    </tr>\n",
       "    <tr>\n",
       "      <th>2</th>\n",
       "      <td>72.682911</td>\n",
       "    </tr>\n",
       "    <tr>\n",
       "      <th>3</th>\n",
       "      <td>72.066887</td>\n",
       "    </tr>\n",
       "    <tr>\n",
       "      <th>4</th>\n",
       "      <td>72.679146</td>\n",
       "    </tr>\n",
       "    <tr>\n",
       "      <th>5</th>\n",
       "      <td>72.853005</td>\n",
       "    </tr>\n",
       "    <tr>\n",
       "      <th>6</th>\n",
       "      <td>72.530314</td>\n",
       "    </tr>\n",
       "    <tr>\n",
       "      <th>7</th>\n",
       "      <td>74.005254</td>\n",
       "    </tr>\n",
       "    <tr>\n",
       "      <th>8</th>\n",
       "      <td>73.147715</td>\n",
       "    </tr>\n",
       "    <tr>\n",
       "      <th>9</th>\n",
       "      <td>72.488015</td>\n",
       "    </tr>\n",
       "    <tr>\n",
       "      <th>10</th>\n",
       "      <td>73.066369</td>\n",
       "    </tr>\n",
       "    <tr>\n",
       "      <th>11</th>\n",
       "      <td>71.744994</td>\n",
       "    </tr>\n",
       "    <tr>\n",
       "      <th>12</th>\n",
       "      <td>73.137636</td>\n",
       "    </tr>\n",
       "    <tr>\n",
       "      <th>13</th>\n",
       "      <td>73.519878</td>\n",
       "    </tr>\n",
       "    <tr>\n",
       "      <th>14</th>\n",
       "      <td>72.341864</td>\n",
       "    </tr>\n",
       "    <tr>\n",
       "      <th>15</th>\n",
       "      <td>73.754063</td>\n",
       "    </tr>\n",
       "    <tr>\n",
       "      <th>16</th>\n",
       "      <td>73.904462</td>\n",
       "    </tr>\n",
       "    <tr>\n",
       "      <th>17</th>\n",
       "      <td>73.030119</td>\n",
       "    </tr>\n",
       "    <tr>\n",
       "      <th>18</th>\n",
       "      <td>72.917355</td>\n",
       "    </tr>\n",
       "    <tr>\n",
       "      <th>19</th>\n",
       "      <td>72.923912</td>\n",
       "    </tr>\n",
       "    <tr>\n",
       "      <th>20</th>\n",
       "      <td>73.200505</td>\n",
       "    </tr>\n",
       "    <tr>\n",
       "      <th>21</th>\n",
       "      <td>72.318551</td>\n",
       "    </tr>\n",
       "    <tr>\n",
       "      <th>22</th>\n",
       "      <td>74.150018</td>\n",
       "    </tr>\n",
       "    <tr>\n",
       "      <th>23</th>\n",
       "      <td>73.195793</td>\n",
       "    </tr>\n",
       "    <tr>\n",
       "      <th>24</th>\n",
       "      <td>72.511204</td>\n",
       "    </tr>\n",
       "    <tr>\n",
       "      <th>25</th>\n",
       "      <td>72.016203</td>\n",
       "    </tr>\n",
       "    <tr>\n",
       "      <th>26</th>\n",
       "      <td>73.078032</td>\n",
       "    </tr>\n",
       "    <tr>\n",
       "      <th>27</th>\n",
       "      <td>72.236240</td>\n",
       "    </tr>\n",
       "    <tr>\n",
       "      <th>28</th>\n",
       "      <td>72.305246</td>\n",
       "    </tr>\n",
       "    <tr>\n",
       "      <th>29</th>\n",
       "      <td>73.153552</td>\n",
       "    </tr>\n",
       "  </tbody>\n",
       "</table>\n",
       "</div>"
      ],
      "text/plain": [
       "            0\n",
       "0   71.715210\n",
       "1   73.688508\n",
       "2   72.682911\n",
       "3   72.066887\n",
       "4   72.679146\n",
       "5   72.853005\n",
       "6   72.530314\n",
       "7   74.005254\n",
       "8   73.147715\n",
       "9   72.488015\n",
       "10  73.066369\n",
       "11  71.744994\n",
       "12  73.137636\n",
       "13  73.519878\n",
       "14  72.341864\n",
       "15  73.754063\n",
       "16  73.904462\n",
       "17  73.030119\n",
       "18  72.917355\n",
       "19  72.923912\n",
       "20  73.200505\n",
       "21  72.318551\n",
       "22  74.150018\n",
       "23  73.195793\n",
       "24  72.511204\n",
       "25  72.016203\n",
       "26  73.078032\n",
       "27  72.236240\n",
       "28  72.305246\n",
       "29  73.153552"
      ]
     },
     "execution_count": 97,
     "metadata": {},
     "output_type": "execute_result"
    }
   ],
   "source": [
    "pd.DataFrame(SLR(Train_df,Test_df))\n",
    "# predicted Y values from x values in test dataset"
   ]
  },
  {
   "cell_type": "markdown",
   "id": "2c6a8286",
   "metadata": {},
   "source": [
    "# Ploting predictions to compare it to the original dataset.\n"
   ]
  },
  {
   "cell_type": "code",
   "execution_count": 98,
   "id": "06233534",
   "metadata": {},
   "outputs": [
    {
     "data": {
      "text/plain": [
       "<matplotlib.legend.Legend at 0x7f9eb2e95850>"
      ]
     },
     "execution_count": 98,
     "metadata": {},
     "output_type": "execute_result"
    },
    {
     "data": {
      "image/png": "[encoded data removed]",
      "text/plain": [
       "<Figure size 504x360 with 1 Axes>"
      ]
     },
     "metadata": {},
     "output_type": "display_data"
    }
   ],
   "source": [
    "import matplotlib.pyplot as plt\n",
    "\n",
    "import warnings\n",
    "import matplotlib.cbook\n",
    "warnings.filterwarnings(\"ignore\",category=matplotlib.cbook.mplDeprecation)\n",
    "\n",
    "sns.set_style(\"white\")\n",
    "fig1 = plt.figure(figsize=(7,5))\n",
    "ax1 = fig1.add_subplot()\n",
    "ax2 = fig1.add_subplot()\n",
    "\n",
    "a = Test_df['X']\n",
    "c = Test_df['Y']\n",
    "b = SLR(Train_df,Test_df)\n",
    "\n",
    "ax1.scatter(a,b,color='#303C6C',s=80,label=\"predicted Y values from Test_df\")\n",
    "ax2.scatter(a,c,color='#F4976C',s=80,label=\"original Y values in Test_df\")\n",
    "\n",
    "plt.legend()"
   ]
  },
  {
   "cell_type": "markdown",
   "id": "7c2d2b1f",
   "metadata": {},
   "source": [
    "**Fron the graph it can be seen that there are few \"Outliners\" which could effect the loss function**"
   ]
  },
  {
   "cell_type": "markdown",
   "id": "4aeacd1a",
   "metadata": {},
   "source": [
    "# Calculating the Loss function : RMSE"
   ]
  },
  {
   "cell_type": "code",
   "execution_count": 99,
   "id": "2923ac5b",
   "metadata": {},
   "outputs": [],
   "source": [
    "# from RMSE formula\n",
    "from math import sqrt\n",
    "def RMSE(actual,prediction):\n",
    "    sum_error = 0.0\n",
    "    for i in range(len(actual)):\n",
    "        prediction_error = actual[i] - prediction[i]\n",
    "        sum_error += (prediction_error ** 2)\n",
    "    mean_error = sum_error/float(len(actual))\n",
    "    return sqrt(mean_error)"
   ]
  },
  {
   "cell_type": "code",
   "execution_count": 100,
   "id": "2a134bf0",
   "metadata": {},
   "outputs": [
    {
     "data": {
      "text/plain": [
       "12.827412977708791"
      ]
     },
     "execution_count": 100,
     "metadata": {},
     "output_type": "execute_result"
    }
   ],
   "source": [
    "RMSE(list(Test_df['Y']),SLR(Train_df,Test_df))"
   ]
  },
  {
   "cell_type": "markdown",
   "id": "d41352a3",
   "metadata": {},
   "source": [
    "**RMSE is the distance on average of a data point from the fitted line, measured along a vertical line**\n",
    "\n",
    "**The high value of RMSE is due the outliners**"
   ]
  },
  {
   "cell_type": "markdown",
   "id": "c3c6a203",
   "metadata": {},
   "source": [
    "# Calculating R^2 "
   ]
  },
  {
   "cell_type": "code",
   "execution_count": 101,
   "id": "e5dc0d67",
   "metadata": {},
   "outputs": [],
   "source": [
    "def R2(actual,prediction):\n",
    "    RSS = 0.0\n",
    "    TSS = 0.0\n",
    "    for i in range(len(actual)):\n",
    "        predict_error = actual[i] - prediction[i]\n",
    "        RSS += (predict_error ** 2)\n",
    "        tss_error = actual[i] - mean(actual)\n",
    "        TSS += (tss_error ** 2)\n",
    "    return 1 - (RSS/TSS)"
   ]
  },
  {
   "cell_type": "code",
   "execution_count": 102,
   "id": "474e75c9",
   "metadata": {},
   "outputs": [
    {
     "data": {
      "text/plain": [
       "0.06408234455493711"
      ]
     },
     "execution_count": 102,
     "metadata": {},
     "output_type": "execute_result"
    }
   ],
   "source": [
    "R2(list(Test_df['Y']),SLR(Train_df,Test_df))"
   ]
  },
  {
   "cell_type": "markdown",
   "id": "9c5d5139",
   "metadata": {},
   "source": [
    "**R-squared is a goodness-of-fit measure for linear regression models,**\n",
    "**higher variability around the regression line produces a lower R-squared value.**"
   ]
  }
 ],
 "metadata": {
  "kernelspec": {
   "display_name": "Python 3",
   "language": "python",
   "name": "python3"
  },
  "language_info": {
   "codemirror_mode": {
    "name": "ipython",
    "version": 3
   },
   "file_extension": ".py",
   "mimetype": "text/x-python",
   "name": "python",
   "nbconvert_exporter": "python",
   "pygments_lexer": "ipython3",
   "version": "3.8.8"
  }
 },
 "nbformat": 4,
 "nbformat_minor": 5
}
